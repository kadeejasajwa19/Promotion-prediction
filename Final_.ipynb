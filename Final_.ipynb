{
  "nbformat": 4,
  "nbformat_minor": 0,
  "metadata": {
    "colab": {
      "provenance": []
    },
    "kernelspec": {
      "name": "python3",
      "display_name": "Python 3"
    },
    "language_info": {
      "name": "python"
    }
  },
  "cells": [
    {
      "cell_type": "code",
      "source": [
        "# STEP 1: Load libraries\n",
        "import pandas as pd\n",
        "from sklearn.ensemble import RandomForestClassifier\n",
        "from sklearn.preprocessing import LabelEncoder\n",
        "from sklearn.impute import SimpleImputer\n",
        "\n",
        "# STEP 2: Load files (must upload to Colab first)\n",
        "train = pd.read_csv('/content/train_LZdllcl.csv')\n",
        "test = pd.read_csv('/content/test_2umaH9m.csv')\n",
        "sample = pd.read_csv('/content/sample_submission_M0L0uXE.csv')\n",
        "\n",
        "# STEP 3: Prepare the data\n",
        "X = train.drop('is_promoted', axis=1)\n",
        "y = train['is_promoted']\n",
        "\n",
        "# Combine for cleaning\n",
        "combined = pd.concat([X, test])\n",
        "cat_cols = combined.select_dtypes(include='object').columns\n",
        "\n",
        "# Encode text columns\n",
        "for col in cat_cols:\n",
        "    combined[col] = LabelEncoder().fit_transform(combined[col].astype(str))\n",
        "\n",
        "# Fill missing values\n",
        "combined = pd.DataFrame(SimpleImputer(strategy='median').fit_transform(combined), columns=combined.columns)\n",
        "\n",
        "# Split cleaned data\n",
        "X = combined[:len(train)]\n",
        "X_test = combined[len(train):]\n",
        "\n",
        "# STEP 4: Train the model\n",
        "model = RandomForestClassifier()\n",
        "model.fit(X, y)\n",
        "\n",
        "# STEP 5: Predict on test data\n",
        "preds = model.predict(X_test)\n",
        "\n",
        "# STEP 6: Create submission file\n",
        "sample['is_promoted'] = preds\n",
        "sample.to_csv('final_submission.csv', index=False)\n",
        "\n",
        "print(\"✅ Done! 'final_submission.csv' is ready to upload.\")\n"
      ],
      "metadata": {
        "colab": {
          "base_uri": "https://localhost:8080/"
        },
        "id": "QDTAEWt6S4D0",
        "outputId": "ce0b8352-b61c-4407-d022-e9f1fcdf6b37"
      },
      "execution_count": null,
      "outputs": [
        {
          "output_type": "stream",
          "name": "stdout",
          "text": [
            "✅ Done! 'final_submission.csv' is ready to upload.\n"
          ]
        }
      ]
    },
    {
      "cell_type": "code",
      "source": [
        "from google.colab import files\n",
        "files.download('/content/final_submission.csv')\n"
      ],
      "metadata": {
        "colab": {
          "base_uri": "https://localhost:8080/",
          "height": 17
        },
        "id": "a4aSTBwiUTv7",
        "outputId": "77f726e0-73d1-4e5e-c034-15b9f611325c"
      },
      "execution_count": null,
      "outputs": [
        {
          "output_type": "display_data",
          "data": {
            "text/plain": [
              "<IPython.core.display.Javascript object>"
            ],
            "application/javascript": [
              "\n",
              "    async function download(id, filename, size) {\n",
              "      if (!google.colab.kernel.accessAllowed) {\n",
              "        return;\n",
              "      }\n",
              "      const div = document.createElement('div');\n",
              "      const label = document.createElement('label');\n",
              "      label.textContent = `Downloading \"${filename}\": `;\n",
              "      div.appendChild(label);\n",
              "      const progress = document.createElement('progress');\n",
              "      progress.max = size;\n",
              "      div.appendChild(progress);\n",
              "      document.body.appendChild(div);\n",
              "\n",
              "      const buffers = [];\n",
              "      let downloaded = 0;\n",
              "\n",
              "      const channel = await google.colab.kernel.comms.open(id);\n",
              "      // Send a message to notify the kernel that we're ready.\n",
              "      channel.send({})\n",
              "\n",
              "      for await (const message of channel.messages) {\n",
              "        // Send a message to notify the kernel that we're ready.\n",
              "        channel.send({})\n",
              "        if (message.buffers) {\n",
              "          for (const buffer of message.buffers) {\n",
              "            buffers.push(buffer);\n",
              "            downloaded += buffer.byteLength;\n",
              "            progress.value = downloaded;\n",
              "          }\n",
              "        }\n",
              "      }\n",
              "      const blob = new Blob(buffers, {type: 'application/binary'});\n",
              "      const a = document.createElement('a');\n",
              "      a.href = window.URL.createObjectURL(blob);\n",
              "      a.download = filename;\n",
              "      div.appendChild(a);\n",
              "      a.click();\n",
              "      div.remove();\n",
              "    }\n",
              "  "
            ]
          },
          "metadata": {}
        },
        {
          "output_type": "display_data",
          "data": {
            "text/plain": [
              "<IPython.core.display.Javascript object>"
            ],
            "application/javascript": [
              "download(\"download_4bbd0ce7-e2f2-483c-a151-5e8ca9333be2\", \"final_submission.csv\", 184576)"
            ]
          },
          "metadata": {}
        }
      ]
    }
  ]
}